{
 "cells": [
  {
   "cell_type": "code",
   "execution_count": 2,
   "metadata": {},
   "outputs": [],
   "source": [
    "# importing packages\n",
    "\n",
    "import matplotlib   # library for plotting\n",
    "import matplotlib.pyplot as plt #  later you will type plt.$COMMAND\n",
    "import numpy as np   # basic math library  you will type np.$STUFF  e.g., np.cos(1)\n",
    "import pandas as pd  # library for data analysis for text files (everything but netcdf files)\n",
    "import scipy.stats as stats # imports stats functions https://docs.scipy.org/doc/scipy/reference/stats.html "
   ]
  },
  {
   "cell_type": "code",
   "execution_count": 12,
   "metadata": {},
   "outputs": [
    {
     "name": "stdout",
     "output_type": "stream",
     "text": [
      "The probility of testing negative and actually being negative is: 0.9729729729729729\n"
     ]
    }
   ],
   "source": [
    "# Question 1a: Bayesian statistics\n",
    "\n",
    "P_n  = 0.9 # percent of population covid negative\n",
    "P_p  = 0.1 # percent of population covid positive\n",
    "P_t  = 0.8 # probability that test is correct \n",
    "P_f  = 0.2 # probability that test is incorrect \n",
    "\n",
    "# Probability of true negative using equ. 23 from Barnes\n",
    "P_tf = P_t*P_n/(P_t*P_n + P_f*P_p)\n",
    "print('The probability of testing negative and actually being negative is:', P_tf)\n"
   ]
  },
  {
   "cell_type": "code",
   "execution_count": 51,
   "metadata": {},
   "outputs": [
    {
     "name": "stdout",
     "output_type": "stream",
     "text": [
      "5.853330790455526\n",
      "The Z-score is: 0.68\n"
     ]
    }
   ],
   "source": [
    "# Question 1c: comparing two sample means\n",
    "# I will use the atmospheric pressure and precipitation data from Questions 2\n",
    "\n",
    "# loading data\n",
    "filename='homework1_data.csv'\n",
    "data=pd.read_csv(filename,sep=',')\n",
    "data.head()\n",
    "\n",
    "# Taking 2 sample means: when precip is small < 0.1, when precip is large > 0.1\n",
    "P_avg_precip_s=data[np.logical_and(data.R_inches >= 0.01,data.R_inches < 0.1)]['P_hPa'].mean() #avg precip is small\n",
    "P_avg_precip_l=data[data.R_inches >= 0.1]['P_hPa'].mean() #avg precip is large \n",
    "\n",
    "#getting the length of each sample\n",
    "N_avg_precip_s =len(data[np.logical_and(data.R_inches >= 0.01,data.R_inches < 0.1)]['P_hPa'])\n",
    "N_avg_precip_l= len(data[data.R_inches >= 0.1]['P_hPa']) #avg precip is large \n",
    "# both samples are larger than 30 so we can use the z-test\n",
    "\n",
    "#getting standard deviations of each sample\n",
    "P_std_precip_s  = data[np.logical_and(data.R_inches >= 0.01,data.R_inches < 0.1)]['P_hPa'].std()\n",
    "P_std_precip_l  = data[data.R_inches >= 0.1]['P_hPa'].std()\n",
    "\n",
    "#calculating z-score from Barnes equ. 108\n",
    "S1_mean = P_avg_precip_s\n",
    "S2_mean = P_avg_precip_l\n",
    "S1_std  = P_std_precip_s\n",
    "S2_std  = P_std_precip_l\n",
    "S1_N    = N_avg_precip_s\n",
    "S2_N    = N_avg_precip_l\n",
    "\n",
    "Z = (S1_mean - S2_mean)/(((S1_std**2/S1_N)+ (S2_std**2/S2_N))**(1/2))\n",
    "print('The Z-score is:',np.round(Z,2))"
   ]
  },
  {
   "cell_type": "code",
   "execution_count": 47,
   "metadata": {},
   "outputs": [
    {
     "name": "stdout",
     "output_type": "stream",
     "text": [
      "95% confidence limits - z-statistic\n",
      "845.02\n",
      "847.92\n"
     ]
    }
   ],
   "source": [
    "# Question 1d: placing confidence intervals on R_inches > 0.1 \n",
    "\n",
    "# z-test\n",
    "zstat95=stats.norm.ppf(0.95)\n",
    "Z_low_limit95=P_avg_precip_l-zstat95*(P_std_precip_l/np.sqrt(N_avg_precip_l))\n",
    "Z_high_limit95=P_avg_precip_l+zstat95*(P_std_precip_l/np.sqrt(N_avg_precip_l))\n",
    "print(\"95% confidence limits - z-statistic\")\n",
    "print(np.round(Z_low_limit95,2))\n",
    "print(np.round(Z_high_limit95,2))"
   ]
  },
  {
   "cell_type": "code",
   "execution_count": 49,
   "metadata": {},
   "outputs": [
    {
     "name": "stdout",
     "output_type": "stream",
     "text": [
      "1.5102\n",
      "0.8286\n",
      "SUMMARY: f<fcrit so we cannot reject our null hypothesis that period1 and period2 have the same standard deviation\n"
     ]
    }
   ],
   "source": [
    "#Question 1e: F-statistic\n",
    "fcrit = stats.f.ppf(q = 0.95, dfn = S1_N-1, dfd = S2_N-1)\n",
    "print(np.round(fcrit,4))\n",
    "# Step #5: Calculate f statistic and Assess findings. \n",
    "f=S1_std**2/S2_std**2\n",
    "print(np.round(f,4))\n",
    "print('SUMMARY: f<fcrit so we cannot reject our null hypothesis that period1 and period2 have the same standard deviation')"
   ]
  },
  {
   "cell_type": "code",
   "execution_count": 3,
   "metadata": {},
   "outputs": [
    {
     "data": {
      "text/html": [
       "<div>\n",
       "<style scoped>\n",
       "    .dataframe tbody tr th:only-of-type {\n",
       "        vertical-align: middle;\n",
       "    }\n",
       "\n",
       "    .dataframe tbody tr th {\n",
       "        vertical-align: top;\n",
       "    }\n",
       "\n",
       "    .dataframe thead th {\n",
       "        text-align: right;\n",
       "    }\n",
       "</style>\n",
       "<table border=\"1\" class=\"dataframe\">\n",
       "  <thead>\n",
       "    <tr style=\"text-align: right;\">\n",
       "      <th></th>\n",
       "      <th>P_hPa</th>\n",
       "      <th>R_inches</th>\n",
       "    </tr>\n",
       "  </thead>\n",
       "  <tbody>\n",
       "    <tr>\n",
       "      <th>0</th>\n",
       "      <td>842.63</td>\n",
       "      <td>0.0</td>\n",
       "    </tr>\n",
       "    <tr>\n",
       "      <th>1</th>\n",
       "      <td>842.58</td>\n",
       "      <td>0.0</td>\n",
       "    </tr>\n",
       "    <tr>\n",
       "      <th>2</th>\n",
       "      <td>842.13</td>\n",
       "      <td>0.0</td>\n",
       "    </tr>\n",
       "    <tr>\n",
       "      <th>3</th>\n",
       "      <td>842.38</td>\n",
       "      <td>0.0</td>\n",
       "    </tr>\n",
       "    <tr>\n",
       "      <th>4</th>\n",
       "      <td>842.57</td>\n",
       "      <td>0.0</td>\n",
       "    </tr>\n",
       "  </tbody>\n",
       "</table>\n",
       "</div>"
      ],
      "text/plain": [
       "    P_hPa  R_inches\n",
       "0  842.63       0.0\n",
       "1  842.58       0.0\n",
       "2  842.13       0.0\n",
       "3  842.38       0.0\n",
       "4  842.57       0.0"
      ]
     },
     "execution_count": 3,
     "metadata": {},
     "output_type": "execute_result"
    }
   ],
   "source": [
    "# Question 2: reloading data\n",
    "filename='homework1_data.csv'\n",
    "data=pd.read_csv(filename,sep=',')\n",
    "data.head()"
   ]
  },
  {
   "cell_type": "code",
   "execution_count": 53,
   "metadata": {},
   "outputs": [
    {
     "name": "stdout",
     "output_type": "stream",
     "text": [
      "The 2014 average atmospheric pressure in Fort Collins was 846.33 hPa.\n",
      "The 2014 average atmospheric pressure during rainfall in Fort Collins was 847.03 hPa.\n"
     ]
    }
   ],
   "source": [
    "# Question 2a: calculating averages\n",
    "\n",
    "#calculating 2014 Pressure average\n",
    "P_avg=data['P_hPa'].mean()\n",
    "print('The 2014 average atmospheric pressure in Fort Collins was', np.round(P_avg,2), 'hPa.')\n",
    "\n",
    "#calculating 2014 pressure average when raining \n",
    "P_avg_precip=data[data.R_inches >= 0.01]['P_hPa'].mean()\n",
    "print('The 2014 average atmospheric pressure during rainfall in Fort Collins was', np.round(P_avg_precip,2), 'hPa.')"
   ]
  },
  {
   "cell_type": "code",
   "execution_count": 5,
   "metadata": {},
   "outputs": [
    {
     "name": "stdout",
     "output_type": "stream",
     "text": [
      "95% confidence limits - t-statistic\n",
      "846.58\n",
      "847.48\n",
      "95% confidence limits - z-statistic\n",
      "846.58\n",
      "847.48\n"
     ]
    }
   ],
   "source": [
    "# Question 2b: calculating 95% confidence intervals \n",
    "\n",
    "# calculating needed parameters\n",
    "N_total = len(data.P_hPa)\n",
    "#print(N_total)\n",
    "\n",
    "N_rain = len(data[data.R_inches >= 0.01].P_hPa)\n",
    "#print(N_rain)\n",
    "\n",
    "P_std_precip = data[data.R_inches >= 0.01]['P_hPa'].std()\n",
    "#print(P_std_precip)\n",
    "\n",
    "df = N_rain - 1\n",
    "#print(df)\n",
    "\n",
    "# t-test\n",
    "tstat95=stats.t.ppf(0.95,df)\n",
    "T_low_limit95=P_avg_precip-tstat95*(P_std_precip/np.sqrt(df))\n",
    "T_high_limit95=P_avg_precip+tstat95*(P_std_precip/np.sqrt(df))\n",
    "print(\"95% confidence limits - t-statistic\")\n",
    "print(np.round(T_low_limit95,2))\n",
    "print(np.round(T_high_limit95,2))\n",
    "\n",
    "# z-test\n",
    "zstat95=stats.norm.ppf(0.95)\n",
    "Z_low_limit95=P_avg_precip-zstat95*(P_std_precip/np.sqrt(N_rain))\n",
    "Z_high_limit95=P_avg_precip+zstat95*(P_std_precip/np.sqrt(N_rain))\n",
    "print(\"95% confidence limits - z-statistic\")\n",
    "print(np.round(Z_low_limit95,2))\n",
    "print(np.round(Z_high_limit95,2))"
   ]
  },
  {
   "cell_type": "code",
   "execution_count": 55,
   "metadata": {},
   "outputs": [
    {
     "name": "stdout",
     "output_type": "stream",
     "text": [
      "Mean bootstrapped P: 846.33\n",
      "std bootstrapped P: 0.29\n",
      "Min bootstrapped P: 845.37\n",
      "Max bootstrapped P: 847.43\n"
     ]
    }
   ],
   "source": [
    "# Question 2c: bootstrapping to generate a distribution of randomly selected \n",
    "# mean pressure when raining  \n",
    "\n",
    "### Now Bootstrap Nbs times SWE.\n",
    "Nbs=10000\n",
    "## initialize array\n",
    "P_Bootstrap=np.empty((Nbs,N_rain))\n",
    "## loop over to fill in array with randomly selected values\n",
    "for ii in range(Nbs):\n",
    "    P_Bootstrap[ii,:]=np.random.choice(data.P_hPa,N_rain)\n",
    "\n",
    "## Calculate the means of your randomly selected SWE values.\n",
    "P_Bootstrap_mean=np.mean(P_Bootstrap,axis=1)\n",
    "#print(len(P_Bootstrap_mean))  ## check length to see if you averaged across the correct axis\n",
    "\n",
    "P_Bootstrap_mean_avg=np.mean(P_Bootstrap_mean)\n",
    "print('Mean bootstrapped P:', np.round(P_Bootstrap_mean_avg,2))\n",
    "P_Bootstrap_mean_std=np.std(P_Bootstrap_mean)\n",
    "print('std bootstrapped P:',np.round(P_Bootstrap_mean_std,2))\n",
    "P_Bootstrap_mean_min=np.min(P_Bootstrap_mean)\n",
    "print('Min bootstrapped P:',np.round(P_Bootstrap_mean_min,2))\n",
    "P_Bootstrap_mean_max=np.max(P_Bootstrap_mean)\n",
    "print('Max bootstrapped P:',np.round(P_Bootstrap_mean_max,2))"
   ]
  },
  {
   "cell_type": "code",
   "execution_count": 12,
   "metadata": {},
   "outputs": [
    {
     "data": {
      "image/png": "[encoded data removed]",
      "text/plain": [
       "<Figure size 432x288 with 1 Axes>"
      ]
     },
     "metadata": {
      "needs_background": "light"
     },
     "output_type": "display_data"
    }
   ],
   "source": [
    "# Question 2c cont...\n",
    "\n",
    "# plotting bootstrapped distribution \n",
    "binsize=0.1\n",
    "min4hist=np.round(np.min(P_Bootstrap_mean),1)-binsize\n",
    "max4hist=np.round(np.max(P_Bootstrap_mean),1)+binsize\n",
    "nbins=int((max4hist-min4hist)/binsize)\n",
    "\n",
    "plt.hist(P_Bootstrap_mean,nbins,edgecolor='black')\n",
    "plt.xlabel('Mean Air Pressure (hPa)');\n",
    "plt.ylabel('Count');\n",
    "plt.title('Bootstrapped Randomly Selected Mean Air Pressure Values');"
   ]
  },
  {
   "cell_type": "code",
   "execution_count": 14,
   "metadata": {},
   "outputs": [
    {
     "name": "stdout",
     "output_type": "stream",
     "text": [
      "Z-statistic (number of standard errors that the sample mean deviates from the population mean:\n",
      "2.45\n",
      "Probability one-tailed test (percent):\n",
      "0.72\n"
     ]
    }
   ],
   "source": [
    "# Question 2c cont...\n",
    "\n",
    "#calculating probability that air pressure is higher when it is raining\n",
    "# compared to randomly distributed bootstraped distribution\n",
    "\n",
    "sample_mean=P_avg_precip\n",
    "sample_N=1\n",
    "population_mean=np.mean(P_Bootstrap_mean)\n",
    "population_std=np.std(P_Bootstrap_mean)\n",
    "xstd=population_std/np.sqrt(sample_N)\n",
    "z_precip=(sample_mean-population_mean)/xstd\n",
    "print(\"Z-statistic (number of standard errors that the sample mean deviates from the population mean:\")\n",
    "print(np.round(z_precip,2))\n",
    "prob=(1-stats.norm.cdf(np.abs(z_precip)))*100 ##this is a one-sided test\n",
    "print(\"Probability one-tailed test (percent):\")\n",
    "print(np.round(prob,2)) "
   ]
  }
 ],
 "metadata": {
  "kernelspec": {
   "display_name": "Python 3",
   "language": "python",
   "name": "python3"
  },
  "language_info": {
   "codemirror_mode": {
    "name": "ipython",
    "version": 3
   },
   "file_extension": ".py",
   "mimetype": "text/x-python",
   "name": "python",
   "nbconvert_exporter": "python",
   "pygments_lexer": "ipython3",
   "version": "3.7.7"
  }
 },
 "nbformat": 4,
 "nbformat_minor": 4
}
